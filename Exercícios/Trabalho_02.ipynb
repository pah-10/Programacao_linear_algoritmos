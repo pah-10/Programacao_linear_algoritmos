{
  "nbformat": 4,
  "nbformat_minor": 0,
  "metadata": {
    "colab": {
      "provenance": []
    },
    "kernelspec": {
      "name": "python3",
      "display_name": "Python 3"
    },
    "language_info": {
      "name": "python"
    }
  },
  "cells": [
    {
      "cell_type": "markdown",
      "source": [
        "Trabalho 02"
      ],
      "metadata": {
        "id": "yjDXEjbnmQhm"
      }
    },
    {
      "cell_type": "code",
      "execution_count": 2,
      "metadata": {
        "id": "XmbLnes4mOyB",
        "colab": {
          "base_uri": "https://localhost:8080/"
        },
        "outputId": "2451b4d2-beeb-4e47-cca9-9281265c6181"
      },
      "outputs": [
        {
          "output_type": "stream",
          "name": "stdout",
          "text": [
            "Looking in indexes: https://pypi.org/simple, https://us-python.pkg.dev/colab-wheels/public/simple/\n",
            "Collecting pymprog\n",
            "  Downloading pymprog-1.1.2.tar.gz (44 kB)\n",
            "\u001b[2K     \u001b[90m━━━━━━━━━━━━━━━━━━━━━━━━━━━━━━━━━━━━━━━━\u001b[0m \u001b[32m44.6/44.6 kB\u001b[0m \u001b[31m2.3 MB/s\u001b[0m eta \u001b[36m0:00:00\u001b[0m\n",
            "\u001b[?25h  Preparing metadata (setup.py) ... \u001b[?25l\u001b[?25hdone\n",
            "Collecting swiglpk>=1.4.4 (from pymprog)\n",
            "  Downloading swiglpk-5.0.8-cp310-cp310-manylinux_2_17_x86_64.manylinux2014_x86_64.whl (2.3 MB)\n",
            "\u001b[2K     \u001b[90m━━━━━━━━━━━━━━━━━━━━━━━━━━━━━━━━━━━━━━━━\u001b[0m \u001b[32m2.3/2.3 MB\u001b[0m \u001b[31m29.8 MB/s\u001b[0m eta \u001b[36m0:00:00\u001b[0m\n",
            "\u001b[?25hBuilding wheels for collected packages: pymprog\n",
            "  Building wheel for pymprog (setup.py) ... \u001b[?25l\u001b[?25hdone\n",
            "  Created wheel for pymprog: filename=pymprog-1.1.2-py3-none-any.whl size=43485 sha256=8e7b92ede211aadb32de26376ae6c43d298ac51141bc41198b447774f9d1b09e\n",
            "  Stored in directory: /root/.cache/pip/wheels/f7/dc/68/18b668a7137dc2a1e5973c9c3c8543ddcce4daa09a3a8d94b0\n",
            "Successfully built pymprog\n",
            "Installing collected packages: swiglpk, pymprog\n",
            "Successfully installed pymprog-1.1.2 swiglpk-5.0.8\n"
          ]
        }
      ],
      "source": [
        "# Instalando a biblioteca PyMathProg\n",
        "!pip install pymprog"
      ]
    },
    {
      "cell_type": "code",
      "source": [
        "from pymprog import*\n",
        "\n",
        "#Dados de entrada\n",
        "#Demanda de barcos no periodo i\n",
        "D = [1, 2, 5, 3, 2, 6, 3, 2]\n",
        "\n",
        "#Custo de estoque do barco\n",
        "CE = 1000\n",
        "\n",
        "#Custo de produção do barco\n",
        "CP = 10000\n",
        "\n",
        "#Custo da taxa de produção do barco\n",
        "CT = 4000\n",
        "\n",
        "#Limite de estoque do barco\n",
        "LE = 3\n",
        "\n",
        "#Limite de produção do barco\n",
        "LP = 4\n",
        "\n",
        "#Quantidade de meses i\n",
        "n = len(D) \n",
        "\n",
        "begin(\"Minimizacao do custo de producao\") \n",
        "\n",
        "#Variaveis de decisão\n",
        "#Quantidade de barcos produzida\n",
        "X = var(\"X\", n, int)\n",
        "\n",
        "#Quantidade de barcos estocado\n",
        "Y = var(\"Y\", n, int)\n",
        "\n",
        "#Se o barco foi contruido ou não foi construído em um mês i\n",
        "S = var(\"S\", n, bool)\n",
        "\n",
        "#Valor suficientemente grande\n",
        "m = sum(D[i] for i in range(n))\n",
        "\n",
        "# Função objetivo\n",
        "minimize(sum(CP * X[i] + CE * Y[i] + CT * S[i] for i in range(n)))\n",
        "\n",
        "# Restrições\n",
        "Y[-1] == 0\n",
        "\n",
        "for i in range(n):\n",
        "  X[i] + Y[i-1] - Y[i] == D[i]\n",
        "\n",
        "for i in range(n):\n",
        "  X[i] <= S[i] * m\n",
        "\n",
        "for i in range(n):\n",
        "  X[i] <= LP\n",
        "\n",
        "for i in range(n):\n",
        "  Y[i] <= LE\n",
        "\n",
        "solve()\n",
        "\n",
        "#valor otimo (menor custo de producao)\n",
        "print(\"Valor otimo = {}\".format(vobj()))\n",
        "\n",
        "print(\"\\nSolução ótima\")\n",
        "\n",
        "#Solução Otima (valor das variaveis)\n",
        "for i in range(n):\n",
        "  print(\"X[{}] = {}  Y[{}] = {}\".format(i+1, X[i].primal, i+1, Y[i].primal))\n",
        "\n",
        "end()"
      ],
      "metadata": {
        "id": "mm3Plt7Qpfx8",
        "colab": {
          "base_uri": "https://localhost:8080/"
        },
        "outputId": "ad5f0665-0823-41b1-d366-d94e2d406f5b"
      },
      "execution_count": 3,
      "outputs": [
        {
          "output_type": "stream",
          "name": "stdout",
          "text": [
            "Valor otimo = 274000.0\n",
            "\n",
            "Solução ótima\n",
            "X[1] = 4.0  Y[1] = 3.0\n",
            "X[2] = 0.0  Y[2] = 1.0\n",
            "X[3] = 4.0  Y[3] = 0.0\n",
            "X[4] = 3.0  Y[4] = 0.0\n",
            "X[5] = 4.0  Y[5] = 2.0\n",
            "X[6] = 4.0  Y[6] = 0.0\n",
            "X[7] = 3.0  Y[7] = 0.0\n",
            "X[8] = 2.0  Y[8] = 0.0\n"
          ]
        },
        {
          "output_type": "execute_result",
          "data": {
            "text/plain": [
              "model('Minimizacao do custo de producao') is not the default model."
            ]
          },
          "metadata": {},
          "execution_count": 3
        }
      ]
    }
  ]
}